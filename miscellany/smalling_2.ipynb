{
 "metadata": {
  "name": ""
 },
 "nbformat": 3,
 "nbformat_minor": 0,
 "worksheets": [
  {
   "cells": [
    {
     "cell_type": "code",
     "collapsed": false,
     "input": [
      "import warnings\n",
      "warnings.filterwarnings(\"ignore\")"
     ],
     "language": "python",
     "metadata": {},
     "outputs": [],
     "prompt_number": 19
    },
    {
     "cell_type": "code",
     "collapsed": false,
     "input": [
      "from timeit import Timer\n",
      "\n",
      "import pandas as pd\n",
      "import numpy as np\n",
      "from pandas.stats.api import ols\n",
      "import statsmodels.formula.api as sm\n",
      "from sklearn.linear_model import LinearRegression\n",
      "from matplotlib import pyplot as plt\n",
      "from pandas.tools.plotting import scatter_matrix\n",
      "from sklearn.cross_validation import train_test_split"
     ],
     "language": "python",
     "metadata": {},
     "outputs": [],
     "prompt_number": 1
    },
    {
     "cell_type": "markdown",
     "metadata": {},
     "source": [
      "**Load and munge the time series data**  \n",
      "X matrix = 30 days x 4 features. Can fill from just 1 stock's data, since constant across stocks.  \n",
      "y matrix = 30 days x N stock returns on each day"
     ]
    },
    {
     "cell_type": "code",
     "collapsed": false,
     "input": [
      "# Get the time series data. \n",
      "filename = \"qtpi_example2.csv\"\n",
      "df = pd.read_csv(filename, parse_dates = {'timestamp':['date']})"
     ],
     "language": "python",
     "metadata": {},
     "outputs": [],
     "prompt_number": 13
    },
    {
     "cell_type": "code",
     "collapsed": false,
     "input": [
      "# The predictors are constant across stocks; therefore grab the first stock's predictors and set as X\n",
      "x_df = df[:21]\n",
      "x_df = x_df[['timestamp','x1','x2','x3','x4']]\n",
      "\n",
      "# Let's create a smaller Y vector to ease pedagogy (2 response vars, instead of all the stock prices)\n",
      "test_df = df[:42]\n",
      "y_df = test_df.pivot(index='timestamp', columns='id',values='y')\n",
      "\n",
      "# pretend there's missing data [edit - this may be tricky to handle: possible, but 2 tricky 4 now]\n",
      "## y_df[10001]['2008-01-31'] = NaN\n",
      "## y_df[10001]['2008-01-29'] = NaN\n",
      "\n",
      "# Merge x_df and y_df into the same df, indexed on the timestamp\n",
      "obs_df = pd.merge(y_df, x_df, how='outer',left_index=True,right_on='timestamp',sort=True).set_index('timestamp')\n",
      "obs_df"
     ],
     "language": "python",
     "metadata": {},
     "outputs": [
      {
       "html": [
        "<div style=\"max-height:1000px;max-width:1500px;overflow:auto;\">\n",
        "<table border=\"1\" class=\"dataframe\">\n",
        "  <thead>\n",
        "    <tr style=\"text-align: right;\">\n",
        "      <th></th>\n",
        "      <th>10001</th>\n",
        "      <th>10002</th>\n",
        "      <th>x1</th>\n",
        "      <th>x2</th>\n",
        "      <th>x3</th>\n",
        "      <th>x4</th>\n",
        "    </tr>\n",
        "    <tr>\n",
        "      <th>timestamp</th>\n",
        "      <th></th>\n",
        "      <th></th>\n",
        "      <th></th>\n",
        "      <th></th>\n",
        "      <th></th>\n",
        "      <th></th>\n",
        "    </tr>\n",
        "  </thead>\n",
        "  <tbody>\n",
        "    <tr>\n",
        "      <th>2008-01-02</th>\n",
        "      <td> 0.021924</td>\n",
        "      <td> 0.023140</td>\n",
        "      <td>-0.0146</td>\n",
        "      <td>-0.0004</td>\n",
        "      <td>-0.0002</td>\n",
        "      <td> 0.0090</td>\n",
        "    </tr>\n",
        "    <tr>\n",
        "      <th>2008-01-03</th>\n",
        "      <td>-0.026298</td>\n",
        "      <td>-0.044427</td>\n",
        "      <td>-0.0014</td>\n",
        "      <td>-0.0096</td>\n",
        "      <td>-0.0034</td>\n",
        "      <td> 0.0162</td>\n",
        "    </tr>\n",
        "    <tr>\n",
        "      <th>2008-01-04</th>\n",
        "      <td>-0.022743</td>\n",
        "      <td>-0.038039</td>\n",
        "      <td>-0.0256</td>\n",
        "      <td>-0.0039</td>\n",
        "      <td> 0.0031</td>\n",
        "      <td> 0.0057</td>\n",
        "    </tr>\n",
        "    <tr>\n",
        "      <th>2008-01-07</th>\n",
        "      <td> 0.006545</td>\n",
        "      <td> 0.035149</td>\n",
        "      <td> 0.0016</td>\n",
        "      <td> 0.0008</td>\n",
        "      <td> 0.0021</td>\n",
        "      <td>-0.0052</td>\n",
        "    </tr>\n",
        "    <tr>\n",
        "      <th>2008-01-08</th>\n",
        "      <td>-0.006503</td>\n",
        "      <td>-0.024618</td>\n",
        "      <td>-0.0181</td>\n",
        "      <td>-0.0037</td>\n",
        "      <td>-0.0066</td>\n",
        "      <td> 0.0100</td>\n",
        "    </tr>\n",
        "    <tr>\n",
        "      <th>2008-01-09</th>\n",
        "      <td> 0.027273</td>\n",
        "      <td> 0.022628</td>\n",
        "      <td> 0.0110</td>\n",
        "      <td>-0.0040</td>\n",
        "      <td>-0.0052</td>\n",
        "      <td> 0.0027</td>\n",
        "    </tr>\n",
        "    <tr>\n",
        "      <th>2008-01-10</th>\n",
        "      <td>-0.052460</td>\n",
        "      <td> 0.021277</td>\n",
        "      <td> 0.0089</td>\n",
        "      <td>-0.0011</td>\n",
        "      <td> 0.0039</td>\n",
        "      <td>-0.0139</td>\n",
        "    </tr>\n",
        "    <tr>\n",
        "      <th>2008-01-11</th>\n",
        "      <td> 0.012753</td>\n",
        "      <td>-0.018333</td>\n",
        "      <td>-0.0142</td>\n",
        "      <td>-0.0059</td>\n",
        "      <td> 0.0020</td>\n",
        "      <td>-0.0087</td>\n",
        "    </tr>\n",
        "    <tr>\n",
        "      <th>2008-01-14</th>\n",
        "      <td> 0.022222</td>\n",
        "      <td> 0.007640</td>\n",
        "      <td> 0.0102</td>\n",
        "      <td>-0.0010</td>\n",
        "      <td>-0.0018</td>\n",
        "      <td> 0.0030</td>\n",
        "    </tr>\n",
        "    <tr>\n",
        "      <th>2008-01-15</th>\n",
        "      <td>-0.034783</td>\n",
        "      <td>-0.026959</td>\n",
        "      <td>-0.0239</td>\n",
        "      <td> 0.0053</td>\n",
        "      <td> 0.0009</td>\n",
        "      <td> 0.0035</td>\n",
        "    </tr>\n",
        "    <tr>\n",
        "      <th>2008-01-16</th>\n",
        "      <td>-0.001494</td>\n",
        "      <td> 0.038961</td>\n",
        "      <td>-0.0051</td>\n",
        "      <td> 0.0080</td>\n",
        "      <td> 0.0093</td>\n",
        "      <td>-0.0296</td>\n",
        "    </tr>\n",
        "    <tr>\n",
        "      <th>2008-01-17</th>\n",
        "      <td>-0.000008</td>\n",
        "      <td>-0.017500</td>\n",
        "      <td>-0.0280</td>\n",
        "      <td> 0.0045</td>\n",
        "      <td>-0.0008</td>\n",
        "      <td> 0.0030</td>\n",
        "    </tr>\n",
        "    <tr>\n",
        "      <th>2008-01-18</th>\n",
        "      <td> 0.008271</td>\n",
        "      <td>-0.021204</td>\n",
        "      <td>-0.0056</td>\n",
        "      <td>-0.0023</td>\n",
        "      <td>-0.0081</td>\n",
        "      <td> 0.0082</td>\n",
        "    </tr>\n",
        "    <tr>\n",
        "      <th>2008-01-22</th>\n",
        "      <td>-0.013423</td>\n",
        "      <td>-0.048527</td>\n",
        "      <td>-0.0098</td>\n",
        "      <td> 0.0042</td>\n",
        "      <td> 0.0078</td>\n",
        "      <td>-0.0287</td>\n",
        "    </tr>\n",
        "    <tr>\n",
        "      <th>2008-01-23</th>\n",
        "      <td> 0.054422</td>\n",
        "      <td> 0.047359</td>\n",
        "      <td> 0.0204</td>\n",
        "      <td> 0.0054</td>\n",
        "      <td> 0.0138</td>\n",
        "      <td>-0.0424</td>\n",
        "    </tr>\n",
        "    <tr>\n",
        "      <th>2008-01-24</th>\n",
        "      <td>-0.008459</td>\n",
        "      <td>-0.016530</td>\n",
        "      <td> 0.0102</td>\n",
        "      <td>-0.0092</td>\n",
        "      <td>-0.0077</td>\n",
        "      <td> 0.0024</td>\n",
        "    </tr>\n",
        "    <tr>\n",
        "      <th>2008-01-25</th>\n",
        "      <td>-0.028340</td>\n",
        "      <td> 0.048639</td>\n",
        "      <td>-0.0139</td>\n",
        "      <td> 0.0082</td>\n",
        "      <td> 0.0030</td>\n",
        "      <td> 0.0071</td>\n",
        "    </tr>\n",
        "    <tr>\n",
        "      <th>2008-01-28</th>\n",
        "      <td>-0.012649</td>\n",
        "      <td>-0.012648</td>\n",
        "      <td> 0.0171</td>\n",
        "      <td> 0.0000</td>\n",
        "      <td> 0.0074</td>\n",
        "      <td>-0.0168</td>\n",
        "    </tr>\n",
        "    <tr>\n",
        "      <th>2008-01-29</th>\n",
        "      <td>-0.003014</td>\n",
        "      <td> 0.012810</td>\n",
        "      <td> 0.0069</td>\n",
        "      <td>-0.0044</td>\n",
        "      <td> 0.0089</td>\n",
        "      <td>-0.0139</td>\n",
        "    </tr>\n",
        "    <tr>\n",
        "      <th>2008-01-30</th>\n",
        "      <td> 0.016629</td>\n",
        "      <td> 0.001686</td>\n",
        "      <td>-0.0059</td>\n",
        "      <td>-0.0032</td>\n",
        "      <td>-0.0004</td>\n",
        "      <td> 0.0013</td>\n",
        "    </tr>\n",
        "    <tr>\n",
        "      <th>2008-01-31</th>\n",
        "      <td> 0.040892</td>\n",
        "      <td> 0.039562</td>\n",
        "      <td> 0.0166</td>\n",
        "      <td> 0.0072</td>\n",
        "      <td> 0.0034</td>\n",
        "      <td>-0.0169</td>\n",
        "    </tr>\n",
        "  </tbody>\n",
        "</table>\n",
        "</div>"
       ],
       "metadata": {},
       "output_type": "pyout",
       "prompt_number": 110,
       "text": [
        "               10001     10002      x1      x2      x3      x4\n",
        "timestamp                                                     \n",
        "2008-01-02  0.021924  0.023140 -0.0146 -0.0004 -0.0002  0.0090\n",
        "2008-01-03 -0.026298 -0.044427 -0.0014 -0.0096 -0.0034  0.0162\n",
        "2008-01-04 -0.022743 -0.038039 -0.0256 -0.0039  0.0031  0.0057\n",
        "2008-01-07  0.006545  0.035149  0.0016  0.0008  0.0021 -0.0052\n",
        "2008-01-08 -0.006503 -0.024618 -0.0181 -0.0037 -0.0066  0.0100\n",
        "2008-01-09  0.027273  0.022628  0.0110 -0.0040 -0.0052  0.0027\n",
        "2008-01-10 -0.052460  0.021277  0.0089 -0.0011  0.0039 -0.0139\n",
        "2008-01-11  0.012753 -0.018333 -0.0142 -0.0059  0.0020 -0.0087\n",
        "2008-01-14  0.022222  0.007640  0.0102 -0.0010 -0.0018  0.0030\n",
        "2008-01-15 -0.034783 -0.026959 -0.0239  0.0053  0.0009  0.0035\n",
        "2008-01-16 -0.001494  0.038961 -0.0051  0.0080  0.0093 -0.0296\n",
        "2008-01-17 -0.000008 -0.017500 -0.0280  0.0045 -0.0008  0.0030\n",
        "2008-01-18  0.008271 -0.021204 -0.0056 -0.0023 -0.0081  0.0082\n",
        "2008-01-22 -0.013423 -0.048527 -0.0098  0.0042  0.0078 -0.0287\n",
        "2008-01-23  0.054422  0.047359  0.0204  0.0054  0.0138 -0.0424\n",
        "2008-01-24 -0.008459 -0.016530  0.0102 -0.0092 -0.0077  0.0024\n",
        "2008-01-25 -0.028340  0.048639 -0.0139  0.0082  0.0030  0.0071\n",
        "2008-01-28 -0.012649 -0.012648  0.0171  0.0000  0.0074 -0.0168\n",
        "2008-01-29 -0.003014  0.012810  0.0069 -0.0044  0.0089 -0.0139\n",
        "2008-01-30  0.016629  0.001686 -0.0059 -0.0032 -0.0004  0.0013\n",
        "2008-01-31  0.040892  0.039562  0.0166  0.0072  0.0034 -0.0169"
       ]
      }
     ],
     "prompt_number": 110
    },
    {
     "cell_type": "markdown",
     "metadata": {},
     "source": [
      "scikit-learn expects a predictor matrix (numpy array or sparse matrix) of shape [n_samples, n_features] and a response matrix (numpy array) of shape [n_samples, n_targets]. Munge the DF above (and also normalize/standardize the values) to fit these requirements."
     ]
    },
    {
     "cell_type": "code",
     "collapsed": false,
     "input": [
      "# make the DF a numpy 2d array to facilitate loading into scikit-learn\n",
      "X_HD = obs_df[[10001,10002,'x1','x2','x3','x4']].values\n",
      "\n",
      "# standardize the values: i.e. center values around zero, and divide by the stddev\n",
      "X_HDn = (X_HD - X_HD.mean(axis=0)) / X_HD.std(axis = 0) \n",
      "\n",
      "response_matrix = X_HDn[:, :2] # The response vars are the first 2 columns\n",
      "predictor_matrix = X_HDn[:, 2:] # The predictor vars are the columns after\n",
      "\n",
      "# munge to match input format requirements\n",
      "response = response_matrix.reshape(-1,1)\n",
      "predictor = predictor_matrix.reshape(-1,1)\n"
     ],
     "language": "python",
     "metadata": {},
     "outputs": [],
     "prompt_number": 90
    },
    {
     "cell_type": "heading",
     "level": 3,
     "metadata": {},
     "source": [
      "Run a linear regression"
     ]
    },
    {
     "cell_type": "code",
     "collapsed": false,
     "input": [
      "clf = LinearRegression()\n",
      "clf.fit(predictor_matrix, response_matrix)\n",
      "\n",
      "predictions = clf.predict(predictor_matrix)"
     ],
     "language": "python",
     "metadata": {},
     "outputs": [
      {
       "metadata": {},
       "output_type": "pyout",
       "prompt_number": 120,
       "text": [
        "LinearRegression(copy_X=True, fit_intercept=True, normalize=False)"
       ]
      }
     ],
     "prompt_number": 120
    },
    {
     "cell_type": "heading",
     "level": 4,
     "metadata": {},
     "source": [
      "Show the parameter matrix and the intercepts (i.e. if y = Ax + b, print A and b)"
     ]
    },
    {
     "cell_type": "code",
     "collapsed": false,
     "input": [
      "print clf.coef_\n",
      "print \"\\n\"\n",
      "print clf.intercept_"
     ],
     "language": "python",
     "metadata": {},
     "outputs": [
      {
       "output_type": "stream",
       "stream": "stdout",
       "text": [
        "[[ 0.30537368  0.18378074 -0.46512276 -0.44257764]\n",
        " [ 0.67916051  0.63404999  0.29014783  0.50535403]]\n",
        "\n",
        "\n",
        "[  2.22610074e-17  -7.57090201e-17]\n"
       ]
      }
     ],
     "prompt_number": 118
    },
    {
     "cell_type": "heading",
     "level": 4,
     "metadata": {},
     "source": [
      "Show the R^2 score"
     ]
    },
    {
     "cell_type": "code",
     "collapsed": false,
     "input": [
      "print clf.score(predictor_matrix, response_matrix)"
     ],
     "language": "python",
     "metadata": {},
     "outputs": [
      {
       "output_type": "stream",
       "stream": "stdout",
       "text": [
        "0.391555078628\n"
       ]
      }
     ],
     "prompt_number": 119
    },
    {
     "cell_type": "heading",
     "level": 3,
     "metadata": {},
     "source": [
      "Optional for DGS's purposes, but this enables cross-validation by splitting the response & predictor data"
     ]
    },
    {
     "cell_type": "code",
     "collapsed": false,
     "input": [
      "from sklearn.cross_validation import train_test_split\n",
      "X_train, X_test, y_train, y_test = train_test_split(predictor_matrix, response_matrix)"
     ],
     "language": "python",
     "metadata": {},
     "outputs": [],
     "prompt_number": 95
    },
    {
     "cell_type": "code",
     "collapsed": false,
     "input": [
      "clf1 = LinearRegression()\n",
      "clf1.fit(X_train, y_train)\n",
      "\n",
      "predicted_train = clf1.predict(X_train)\n",
      "predicted_test = clf1.predict(X_test)\n",
      "trains=X_train.reshape(1,-1).flatten()\n",
      "tests=X_test.reshape(1,-1).flatten()\n",
      "\n",
      "print clf1.coef_, clf1.intercept_"
     ],
     "language": "python",
     "metadata": {},
     "outputs": [
      {
       "output_type": "stream",
       "stream": "stdout",
       "text": [
        "[[ 0.28123019  0.12034157 -0.55468898 -0.49995586]\n",
        " [ 0.89584991  0.6379705   0.41507106  0.60604842]] [-0.26664112  0.04377763]\n"
       ]
      }
     ],
     "prompt_number": 98
    },
    {
     "cell_type": "code",
     "collapsed": false,
     "input": [
      "# R^2 on the training data and test data\n",
      "clf1.score(X_train, y_train), clf1.score(X_test, y_test)"
     ],
     "language": "python",
     "metadata": {},
     "outputs": [
      {
       "metadata": {},
       "output_type": "pyout",
       "prompt_number": 99,
       "text": [
        "(0.50129485556603559, -0.78834567648696363)"
       ]
      }
     ],
     "prompt_number": 99
    },
    {
     "cell_type": "code",
     "collapsed": false,
     "input": [
      "# Plot the residuals (mushed into 1-d for plotting purposes)\n",
      "plt.scatter(predicted_test, predicted_test - y_test, c='g', s=40)\n",
      "plt.scatter(predicted_train, predicted_train - y_train, c='b', s=40, alpha=0.5)"
     ],
     "language": "python",
     "metadata": {},
     "outputs": [
      {
       "metadata": {},
       "output_type": "pyout",
       "prompt_number": 121,
       "text": [
        "<matplotlib.collections.PathCollection at 0x111bc7bd0>"
       ]
      },
      {
       "metadata": {},
       "output_type": "display_data",
       "png": "[encoded data removed]",
       "text": [
        "<matplotlib.figure.Figure at 0x111bd6050>"
       ]
      }
     ],
     "prompt_number": 121
    },
    {
     "cell_type": "code",
     "collapsed": false,
     "input": [],
     "language": "python",
     "metadata": {},
     "outputs": []
    }
   ],
   "metadata": {}
  }
 ]
}